{
 "cells": [
  {
   "cell_type": "code",
   "execution_count": 1,
   "metadata": {},
   "outputs": [],
   "source": [
    "from tkinter import *"
   ]
  },
  {
   "cell_type": "markdown",
   "metadata": {},
   "source": [
    "# Tkinter 기본"
   ]
  },
  {
   "attachments": {},
   "cell_type": "markdown",
   "metadata": {},
   "source": [
    "## 첫 번째 tkinter 프로그램"
   ]
  },
  {
   "cell_type": "code",
   "execution_count": null,
   "metadata": {},
   "outputs": [],
   "source": [
    "window = Tk()\n",
    "label = Label(window, text=\"Hello World!\")\n",
    "label.pack()\n",
    "window.mainloop()"
   ]
  },
  {
   "attachments": {},
   "cell_type": "markdown",
   "metadata": {},
   "source": [
    "## 버튼과 이벤트 처리"
   ]
  },
  {
   "cell_type": "code",
   "execution_count": null,
   "metadata": {},
   "outputs": [],
   "source": [
    "window = Tk()\n",
    "b1 = Button(window, text=\"이것이 파이썬 버튼입니다.\")\n",
    "b1.pack()\n",
    "window.mainloop()"
   ]
  },
  {
   "attachments": {},
   "cell_type": "markdown",
   "metadata": {},
   "source": [
    "## 배치 관리자 소개"
   ]
  },
  {
   "cell_type": "code",
   "execution_count": null,
   "metadata": {},
   "outputs": [],
   "source": [
    "window = Tk()\n",
    "b1 = Button(window, text=\"첫번째 버튼\")\n",
    "b2 = Button(window, text=\"두번째 버튼\")\n",
    "b1.pack()\n",
    "b2.pack()\n",
    "window.mainloop()"
   ]
  },
  {
   "cell_type": "code",
   "execution_count": null,
   "metadata": {},
   "outputs": [],
   "source": [
    "window = Tk()\n",
    "b1 = Button(window, text=\"첫번째 버튼\")\n",
    "b2 = Button(window, text=\"두번째 버튼\")\n",
    "b1.pack(side=LEFT)\n",
    "b2.pack(side=LEFT)\n",
    "window.mainloop()"
   ]
  },
  {
   "cell_type": "code",
   "execution_count": null,
   "metadata": {},
   "outputs": [],
   "source": [
    "window = Tk()\n",
    "b1 = Button(window, text=\"첫번째 버튼\")\n",
    "b2 = Button(window, text=\"두번째 버튼\")\n",
    "b1.pack(side=LEFT,padx=10)\n",
    "b2.pack(side=LEFT,padx=10)\n",
    "window.mainloop()"
   ]
  },
  {
   "attachments": {},
   "cell_type": "markdown",
   "metadata": {},
   "source": [
    "## 버튼의 텍스트 변경"
   ]
  },
  {
   "cell_type": "code",
   "execution_count": null,
   "metadata": {},
   "outputs": [],
   "source": [
    "window = Tk()\n",
    "b1 = Button(window, text=\"첫번째 버튼\")\n",
    "b2 = Button(window, text=\"두번째 버튼\")\n",
    "b1.pack(side=LEFT,padx=10)\n",
    "b2.pack(side=LEFT,padx=10)\n",
    "b1[\"text\"] = \"One\"\n",
    "b2[\"text\"] = \"Two\"\n",
    "window.mainloop()"
   ]
  },
  {
   "attachments": {},
   "cell_type": "markdown",
   "metadata": {},
   "source": [
    "## 버튼의 이벤트를 처리하려면"
   ]
  },
  {
   "cell_type": "code",
   "execution_count": 2,
   "metadata": {},
   "outputs": [],
   "source": [
    "def callback():\n",
    "    button[\"text\"] =\"버튼이 클릭되었음!\"\n",
    "window = Tk()\n",
    "button = Button(window, text=\"클릭\", command=callback)\n",
    "button.pack(side=LEFT)\n",
    "window.mainloop()"
   ]
  },
  {
   "attachments": {},
   "cell_type": "markdown",
   "metadata": {},
   "source": [
    "## 예제"
   ]
  },
  {
   "cell_type": "code",
   "execution_count": 3,
   "metadata": {},
   "outputs": [],
   "source": [
    "window = Tk()\n",
    "label = Label(window, text=\"안녕하세요!\")\n",
    "label.pack()\n",
    "button = Button(window, text=\"tkinter로 버튼을 쉽게 만들 수 있습니다.\")\n",
    "button.pack()\n",
    "window.mainloop()"
   ]
  },
  {
   "attachments": {},
   "cell_type": "markdown",
   "metadata": {},
   "source": [
    "## 클래스로 프레임 감싸기"
   ]
  },
  {
   "cell_type": "code",
   "execution_count": 5,
   "metadata": {},
   "outputs": [
    {
     "name": "stdout",
     "output_type": "stream",
     "text": [
      "Hello 버튼이 클릭되었음!\n",
      "Hello 버튼이 클릭되었음!\n",
      "Hello 버튼이 클릭되었음!\n",
      "Quit 버튼이 클릭되었음!\n",
      "Quit 버튼이 클릭되었음!\n",
      "Quit 버튼이 클릭되었음!\n"
     ]
    },
    {
     "data": {
      "text/plain": [
       "<__main__.App at 0x2040be0b550>"
      ]
     },
     "execution_count": 5,
     "metadata": {},
     "output_type": "execute_result"
    }
   ],
   "source": [
    "class App:\n",
    "    def __init__(self ):\n",
    "        window = Tk()\n",
    "        helloB = Button(window, text=\"Hello\", command=self.hello, fg=\"red\")\n",
    "        helloB.pack(side=LEFT)\n",
    "        quitB = Button(window, text=\"Quit\", command=self.quit)\n",
    "        quitB.pack(side=LEFT)\n",
    "        window.mainloop()\n",
    "    def hello(self):\n",
    "        print(\"Hello 버튼이 클릭되었음!\")\n",
    "    def quit(self):\n",
    "        print(\"Quit 버튼이 클릭되었음!\")\n",
    "App()"
   ]
  },
  {
   "attachments": {},
   "cell_type": "markdown",
   "metadata": {},
   "source": [
    "## 색상"
   ]
  },
  {
   "cell_type": "code",
   "execution_count": null,
   "metadata": {},
   "outputs": [],
   "source": [
    "window = Tk()\n",
    "button = Button(window, text=\"버튼을 클릭하세요\")\n",
    "button.pack()\n",
    "button[\"fg\"] = \"yellow\"\n",
    "button[\"bg\"] = \"green\""
   ]
  },
  {
   "attachments": {},
   "cell_type": "markdown",
   "metadata": {},
   "source": [
    "### 색상 대화상자"
   ]
  },
  {
   "cell_type": "code",
   "execution_count": 7,
   "metadata": {},
   "outputs": [
    {
     "name": "stdout",
     "output_type": "stream",
     "text": [
      "(None, None)\n"
     ]
    }
   ],
   "source": [
    "from tkinter.colorchooser import *\n",
    "color=askcolor()\n",
    "print(color)"
   ]
  },
  {
   "attachments": {},
   "cell_type": "markdown",
   "metadata": {},
   "source": [
    "## 폰트"
   ]
  },
  {
   "cell_type": "markdown",
   "metadata": {},
   "source": [
    "- 폰트를 튜플로 지정할 수 있는데 여기에는 (폰트이름, 폰트의 크기, 폰트 스타일)과 같은 형식을 사용한다."
   ]
  },
  {
   "cell_type": "code",
   "execution_count": null,
   "metadata": {},
   "outputs": [],
   "source": [
    "(\"Times\", 10, \"bold\")\n",
    "(\"Helvetica\", 10, \"bold italic\")\n",
    "(\"Symbol\", 8)"
   ]
  },
  {
   "cell_type": "markdown",
   "metadata": {},
   "source": [
    "- 문자열로도 지정"
   ]
  },
  {
   "cell_type": "code",
   "execution_count": null,
   "metadata": {},
   "outputs": [],
   "source": [
    "w = Label(master, text=\"Helvetica\", font=\"Helvetica 16”)"
   ]
  },
  {
   "attachments": {},
   "cell_type": "markdown",
   "metadata": {},
   "source": [
    "## 예제"
   ]
  },
  {
   "cell_type": "code",
   "execution_count": 3,
   "metadata": {},
   "outputs": [],
   "source": [
    "import tkinter as tk\n",
    "import tkinter.font as font\n",
    "class App:\n",
    "    def __init__(self):\n",
    "        root=tk.Tk()\n",
    "        self.customFont = font.Font(family=\"Helvetica\", size=12)\n",
    "        buttonframe = tk.Frame()\n",
    "        label = tk.Label(root, text=\"Hello, World!\", font=self.customFont)\n",
    "        buttonframe.pack()\n",
    "        label.pack()\n",
    "        bigger = tk.Button(root, text=\"폰트를 크게\", command=self.BigFont)\n",
    "        smaller = tk.Button(root, text=\"폰트를 작게\", command=self.SmallFont)\n",
    "        bigger.pack()\n",
    "        smaller.pack()\n",
    "        root.mainloop()\n",
    "    def BigFont(self):\n",
    "        size = self.customFont['size']\n",
    "        self.customFont.configure(size=size+2)\n",
    "    def SmallFont(self):\n",
    "        size = self.customFont['size']\n",
    "        self.customFont.configure(size=size-2)\n",
    "app=App()"
   ]
  },
  {
   "cell_type": "markdown",
   "metadata": {},
   "source": [
    "# 레이블"
   ]
  },
  {
   "cell_type": "markdown",
   "metadata": {},
   "source": [
    "## 레이블로 화면에 이미지 표시하기"
   ]
  },
  {
   "cell_type": "code",
   "execution_count": null,
   "metadata": {},
   "outputs": [],
   "source": [
    "from tkinter import *\n",
    "window = Tk()\n",
    "photo = PhotoImage(file=\"a1.gif\")\n",
    "w = Label(window, image=photo)\n",
    "w.photo = photo\n",
    "w.pack()\n",
    "window.mainloop()"
   ]
  },
  {
   "cell_type": "markdown",
   "metadata": {},
   "source": [
    "## 레이블에 이미지와 텍스트를 동시에 나타내기"
   ]
  },
  {
   "cell_type": "code",
   "execution_count": null,
   "metadata": {},
   "outputs": [],
   "source": [
    "window = Tk()\n",
    "photo = PhotoImage(file=\"wl.gif\")\n",
    "w = Label(window, image=photo).pack(side=\"right\")\n",
    "message= \"\"\"삶이 그대를 속일지라도\n",
    "슬퍼하거나 노하지 말라 !\n",
    "우울한 날들을 견디면 : 믿으라,\n",
    "기쁨의 날이 오리니.\n",
    "마음은 미래에 사는 것\n",
    "현재는 슬픈 것:\n",
    "모든 것은 순간적인 것, 지나가는 것이니\n",
    "그리고 지나가는 것은 훗날 소중하게 되리니.\n",
    "\"\"\"\n",
    "w2 = Label(window, \n",
    "justify=LEFT,\n",
    "padx = 10, \n",
    "text=message).pack(side=\"left\")\n",
    "window.mainloop()\n"
   ]
  },
  {
   "attachments": {},
   "cell_type": "markdown",
   "metadata": {},
   "source": [
    "## 레이블의 색상과 폰트 변경하기"
   ]
  },
  {
   "cell_type": "code",
   "execution_count": null,
   "metadata": {},
   "outputs": [],
   "source": [
    "window = Tk()\n",
    "Label(window, \n",
    "            text=\"Times Font 폰트와 빨강색을 사용합니다.\",\n",
    "            fg = \"red\",\n",
    "            font = \"Times 32 bold italic\").pack()\n",
    "Label(window, \n",
    "            text=\"Helvetica 폰트와 녹색을 사용합니다.\",\n",
    "            fg = \"blue\",\n",
    "            bg = \"yellow\",\n",
    "            font = \"Helvetica 32 bold italic\").pack()\n",
    "window.mainloop()\n",
    "\n"
   ]
  },
  {
   "cell_type": "markdown",
   "metadata": {},
   "source": [
    "# 엔트리 위젯"
   ]
  },
  {
   "attachments": {},
   "cell_type": "markdown",
   "metadata": {},
   "source": [
    "## 예제"
   ]
  },
  {
   "cell_type": "code",
   "execution_count": null,
   "metadata": {},
   "outputs": [],
   "source": [
    "window = Tk()\n",
    "Label(window , text=\"이름\").grid(row=0)\n",
    "Label(window, text=\"나이\").grid(row=1)\n",
    "e1 = Entry(window)\n",
    "e2 = Entry(window)\n",
    "e1.grid(row=0, column=1)\n",
    "e2.grid(row=1, column=1)\n",
    "window.mainloop( )"
   ]
  },
  {
   "cell_type": "code",
   "execution_count": null,
   "metadata": {},
   "outputs": [],
   "source": [
    "def show():\n",
    "    print(\"이름: %s\\n나이: %s\" % (e1.get(), e2.get()))\n",
    "parent = Tk()\n",
    "Label(parent , text=\"이름\").grid(row=0)\n",
    "Label(parent, text=\"나이\").grid(row=1)\n",
    "e1 = Entry(parent)\n",
    "e2 = Entry(parent)\n",
    "e1.grid(row=0, column=1)\n",
    "e2.grid(row=1, column=1)\n",
    "Button(parent, text='보이기', command=show).grid(row=3, column=1, \n",
    "sticky=W, pady=4)\n",
    "Button(parent, text='종료', command=parent.quit).grid(row=3, column=0, \n",
    "sticky=W, pady=4)\n",
    "mainloop( )"
   ]
  },
  {
   "cell_type": "markdown",
   "metadata": {},
   "source": [
    "## 텍스트 위젯"
   ]
  },
  {
   "cell_type": "code",
   "execution_count": null,
   "metadata": {},
   "outputs": [],
   "source": [
    "window = Tk()\n",
    "T = Text(window, height=5, width=60)\n",
    "T.pack()\n",
    "T.insert(END, \"테스트 위젯은 여러 줄의\\n텍스트를 표시할 수 있습니다.\")\n",
    "mainloop()"
   ]
  },
  {
   "attachments": {},
   "cell_type": "markdown",
   "metadata": {},
   "source": [
    "## Lab: 계산기\n",
    "- 수식을 텍스트로 입력하면 이것을 평가하고 그 결과를 출력할 수 있는 간단한 계산기를 작성하여 본다. 수식의 형식은 파이썬과 동일하여야 한다. eval() 함수를 사용하여 사용자가 입력한 수식을 계산할 수 있다."
   ]
  },
  {
   "cell_type": "code",
   "execution_count": null,
   "metadata": {},
   "outputs": [],
   "source": [
    "from tkinter import *\n",
    "from math import *\n",
    "def calculate(event):\n",
    "    label.configure(text = \"결과: \" + str(eval(entry.get())))\n",
    "\n",
    "window = Tk()\n",
    "\n",
    "Label(window, text=\"파이썬 수식 입력:\").pack()\n",
    "entry = Entry(window)\n",
    "entry.bind(\"<Return>\", calculate)\n",
    "entry.pack()\n",
    "\n",
    "label = Label(window, text =\"결과:\")\n",
    "label.pack()\n",
    "\n",
    "w.mainloop()"
   ]
  },
  {
   "attachments": {},
   "cell_type": "markdown",
   "metadata": {},
   "source": [
    "# tkinter를 이용한 그래픽\n",
    "- Canvas 위젯을 이용하여 그래프를 그린다거나 그래픽 에디터를 작성할 수도 있고 많은 종류의 커스텀 위젯을 작성할 수 있다."
   ]
  },
  {
   "cell_type": "markdown",
   "metadata": {},
   "source": [
    "## 기본적인 구조"
   ]
  },
  {
   "cell_type": "code",
   "execution_count": null,
   "metadata": {},
   "outputs": [],
   "source": [
    "from tkinter import *\n",
    "\n",
    "window = Tk()\n",
    "\n",
    "w = Canvas(window, width=300, height=200)\n",
    "w.pack()\n",
    "\n",
    "w.create_rectangle(50, 25, 200, 100, fill=\"blue\")\n",
    "w.create_line(0, 0, 300, 200)\n",
    "w.create_line(0, 0, 300, 100, fill=\"red\")\n",
    "\n",
    "mainloop()"
   ]
  },
  {
   "attachments": {},
   "cell_type": "markdown",
   "metadata": {},
   "source": [
    "## 캔버스 항목"
   ]
  },
  {
   "cell_type": "markdown",
   "metadata": {},
   "source": [
    "- 호(arc) \n",
    "- 비트맵(bitmap, 내장 파일이나 XBM 파일 형식)\n",
    "- 이미지(image, BitmapImage나 PhotoImage 객체)\n",
    "- 직선(line)\n",
    "- 타원(oval, 원이나 타원)\n",
    "- 다각형(polygon)\n",
    "- 사각형(rectangle)\n",
    "- 텍스트(text)\n",
    "- 윈도우(window)"
   ]
  },
  {
   "attachments": {},
   "cell_type": "markdown",
   "metadata": {},
   "source": [
    "### Lab : 랜덤한 사각형 그리기"
   ]
  },
  {
   "attachments": {},
   "cell_type": "markdown",
   "metadata": {},
   "source": [
    "-윈도우를 하나 만들고 여기에 랜덤한 크기의 사각형을 여러 개 그려보자. 위치도 랜덤이어야 하고 크기, 색상도 랜덤으로 하여 본다."
   ]
  },
  {
   "attachments": {},
   "cell_type": "markdown",
   "metadata": {},
   "source": [
    "### 해답"
   ]
  },
  {
   "cell_type": "code",
   "execution_count": null,
   "metadata": {},
   "outputs": [],
   "source": [
    "import random\n",
    "from tkinter import *\n",
    "\n",
    "window = Tk()\n",
    "canvas = Canvas(window, width=500, height=400)\n",
    "canvas.pack()\n",
    "color = [\"red\", \"orange\", \"yellow\", \"green\", \"blue\", \"violet\"]\n",
    "\n",
    "def draw_rect():\n",
    "    x = random.randint(0, 500)\n",
    "    y = random.randint(0, 400)\n",
    "    w = random.randrange(100)\n",
    "    h = random.randrange(100)\n",
    "    canvas.create_rectangle(x, y, w, h, fill = random.choice(color))\n",
    "\n",
    "for i in range(10):\n",
    "    draw_rect()\n",
    "\n",
    "window.mainloop()"
   ]
  },
  {
   "attachments": {},
   "cell_type": "markdown",
   "metadata": {},
   "source": [
    "### 타원 그리기"
   ]
  },
  {
   "cell_type": "code",
   "execution_count": null,
   "metadata": {},
   "outputs": [],
   "source": [
    "window = Tk()\n",
    "canvas = Canvas(window, width=300, height=200)\n",
    "canvas.pack()\n",
    "canvas.create_oval(10, 10, 200, 150)\n",
    "window.mainloop()"
   ]
  },
  {
   "attachments": {},
   "cell_type": "markdown",
   "metadata": {},
   "source": [
    "### 호 그리기"
   ]
  },
  {
   "cell_type": "code",
   "execution_count": 19,
   "metadata": {},
   "outputs": [],
   "source": [
    "window = Tk()\n",
    "canvas = Canvas(window, width=300, height=200)\n",
    "canvas.pack()\n",
    "canvas.create_arc(10, 10, 200, 150, extent=90, style=ARC)\n",
    "window.mainloop()"
   ]
  },
  {
   "attachments": {},
   "cell_type": "markdown",
   "metadata": {},
   "source": [
    "### 다각형 그리기"
   ]
  },
  {
   "cell_type": "code",
   "execution_count": null,
   "metadata": {},
   "outputs": [],
   "source": [
    "window = Tk()\n",
    "canvas = Canvas(window, width=300, height=200)\n",
    "canvas.pack()\n",
    "canvas.create_polygon(10, 10, 150, 110, 250, 20, fill=\"blue\")\n",
    "window.mainloop()"
   ]
  },
  {
   "attachments": {},
   "cell_type": "markdown",
   "metadata": {},
   "source": [
    "### 텍스트 그리기"
   ]
  },
  {
   "cell_type": "code",
   "execution_count": null,
   "metadata": {},
   "outputs": [],
   "source": [
    "window = Tk()\n",
    "canvas = Canvas(window, width=300, height=200)\n",
    "canvas.pack()\n",
    "canvas.create_text(100, 100, text='싱 스트리트(Sing Street)')\n",
    "mainloop()"
   ]
  },
  {
   "attachments": {},
   "cell_type": "markdown",
   "metadata": {},
   "source": [
    "### 이미지 그리기"
   ]
  },
  {
   "cell_type": "code",
   "execution_count": null,
   "metadata": {},
   "outputs": [],
   "source": [
    "window = Tk()\n",
    "\n",
    "canvas = Canvas(window, width=300, height=200)\n",
    "canvas.pack()\n",
    "\n",
    "img = PhotoImage(file=\"D:\\\\starship.png\")\n",
    "canvas.create_image(20, 20, anchor=NW, image=img)\n",
    "\n",
    "mainloop()"
   ]
  },
  {
   "cell_type": "markdown",
   "metadata": {},
   "source": [
    "## 애니메이션을 만들어 보자."
   ]
  },
  {
   "cell_type": "code",
   "execution_count": 27,
   "metadata": {},
   "outputs": [
    {
     "ename": "",
     "evalue": "",
     "output_type": "error",
     "traceback": [
      "\u001b[1;31m현재 셀 또는 이전 셀에서 코드를 실행하는 동안 Kernel이 충돌했습니다. 셀의 코드를 검토하여 오류의 가능한 원인을 식별하세요. 자세한 내용을 보려면 <a href='https://aka.ms/vscodeJupyterKernelCrash'> 여기 </a> 를 클릭하세요. 자세한 내용은 Jupyter <a href='command:jupyter.viewOutput'>로그</a>를 참조하세요."
     ]
    }
   ],
   "source": [
    "import time\n",
    "from tkinter import *\n",
    "window = Tk()\n",
    "canvas = Canvas(window, width=400, height=300)\n",
    "canvas.pack()\n",
    "id=canvas.create_oval(10, 100, 50, 150, fill=\"green\")\n",
    "\n",
    "for i in range(100):\n",
    "    canvas.move(id, 3, 0)\n",
    "    window.update()\n",
    "    time.sleep(0.05)"
   ]
  },
  {
   "attachments": {},
   "cell_type": "markdown",
   "metadata": {},
   "source": [
    "## 화살표 키로 공을 움직여 보자."
   ]
  },
  {
   "cell_type": "code",
   "execution_count": 3,
   "metadata": {},
   "outputs": [],
   "source": [
    "window = Tk()\n",
    "canvas = Canvas(window, width=400, height=300)\n",
    "canvas.pack()\n",
    "\n",
    "id=canvas.create_oval(10, 100, 50, 150, fill=\"green\")\n",
    "\n",
    "def move_right(event):\n",
    "    canvas.move(id, 5, 0)\n",
    "    canvas.bind_all('<KeyPress-Right>', move_right)"
   ]
  },
  {
   "cell_type": "markdown",
   "metadata": {},
   "source": [
    "## Lab : 마우스로 그림그리기"
   ]
  },
  {
   "cell_type": "code",
   "execution_count": 4,
   "metadata": {},
   "outputs": [],
   "source": [
    "from tkinter import *\n",
    "w = 500\n",
    "h = 300\n",
    "def drawDot( event ):\n",
    "    x1, y1 = ( event.x - 1 ), ( event.y - 1 )\n",
    "    x2, y2 = ( event.x + 1 ), ( event.y + 1 )\n",
    "    canvas.create_oval( x1, y1, x2, y2, fill = \"red\" )\n",
    "\n",
    "window = Tk()\n",
    "canvas = Canvas(window, width=w, height=h)\n",
    "canvas.pack(expand = YES, fill = BOTH)\n",
    "canvas.bind( \"<B1-Motion>\", drawDot )\n",
    "\n",
    "message = Label( window, text = \"마우스를 드래그하면 점들이 그려집니다.\" \n",
    ")\n",
    "\n",
    "message.pack( side = BOTTOM )\n",
    "\n",
    "window.mainloop()"
   ]
  },
  {
   "attachments": {},
   "cell_type": "markdown",
   "metadata": {},
   "source": [
    "## 라디오 버튼\n",
    "- 라디오 버튼(radio button)은 체크 박스와 비슷하지만 하나의 그룹 안에서는 한 개의 버튼만 선택할 수 있다는 점이 다르다."
   ]
  },
  {
   "cell_type": "code",
   "execution_count": 6,
   "metadata": {},
   "outputs": [],
   "source": [
    "window = Tk()\n",
    "choice = IntVar()\n",
    "\n",
    "Label(window, \n",
    "    text=\"가장 선호하는 프로그래밍 언어를 선택하시오\",\n",
    "    justify = LEFT,\n",
    "    padx = 20).pack()\n",
    "\n",
    "Radiobutton(window, text=\"Python\", padx = 20, variable=choice, \n",
    "value=1).pack(anchor=W)\n",
    "Radiobutton(window, text=\"C\", padx = 20, variable=choice, \n",
    "value=2).pack(anchor=W)\n",
    "Radiobutton(window, text=\"Java\", padx = 20, variable=choice, \n",
    "value=3).pack(anchor=W)\n",
    "Radiobutton(window, text=\"Swift\", padx = 20, variable=choice, \n",
    "value=4).pack(anchor=W)\n",
    "\n",
    "window.mainloop()"
   ]
  },
  {
   "attachments": {},
   "cell_type": "markdown",
   "metadata": {},
   "source": [
    "## 체크 박스\n",
    "- 체크 박스(check box)란 사용자가 클릭하여서 체크된 상태와 체크되지 않은 상태 중의 하나로 만들 수 있는 위젯이다."
   ]
  },
  {
   "cell_type": "code",
   "execution_count": null,
   "metadata": {},
   "outputs": [],
   "source": [
    "window = Tk()\n",
    "Label(window, text=\"선호하는 언어를 모두 선택하시오:\").grid(row=0, \n",
    "sticky=W)\n",
    "\n",
    "value1 = IntVar()\n",
    "Checkbutton(window, text=\"Python\", variable=value1).grid(row=1, sticky=W)\n",
    "value2 = IntVar()\n",
    "Checkbutton(window, text=\"C\", variable=value2).grid(row=2, sticky=W)\n",
    "value3 = IntVar()\n",
    "Checkbutton(window, text=\"Java\", variable=value3).grid(row=3, sticky=W)\n",
    "value4 = IntVar()\n",
    "Checkbutton(window, text=\"Swift\", variable=value4).grid(row=4, sticky=W)\n",
    "\n",
    "window.mainloop()"
   ]
  },
  {
   "cell_type": "markdown",
   "metadata": {},
   "source": [
    "## 리스트 박스"
   ]
  },
  {
   "cell_type": "code",
   "execution_count": null,
   "metadata": {},
   "outputs": [],
   "source": [
    "window = Tk()\n",
    "lb = Listbox(window, height=4)\n",
    "lb.pack()\n",
    "lb.insert(END,\"Python\")\n",
    "lb.insert(END,\"C\")\n",
    "lb.insert(END,\"Java\")\n",
    "lb.insert(END,\"Swift\")"
   ]
  },
  {
   "attachments": {},
   "cell_type": "markdown",
   "metadata": {},
   "source": [
    "# 배치 관리자\n",
    "- 배치 관리자는 컨테이너 안에 존재하는 위젯의 크기와 위치를 자동적으로 관리하는 객체이다. "
   ]
  },
  {
   "attachments": {},
   "cell_type": "markdown",
   "metadata": {},
   "source": [
    "## 격자 배치 관리자\n",
    "- 격자 배치 관리자(grid geometry manager)는 위젯 (버튼, 레이블 등)을 테이블 형태로 배치한다."
   ]
  },
  {
   "cell_type": "code",
   "execution_count": null,
   "metadata": {},
   "outputs": [],
   "source": [
    "window = Tk()\n",
    "\n",
    "b1 = Button(window, text=\"One\")\n",
    "b2 = Button(window, text=\"Two\")\n",
    "\n",
    "b1.grid(row=0, column=0)\n",
    "b2.grid(row=1, column=1)\n",
    "\n",
    "window.mainloop()"
   ]
  },
  {
   "attachments": {},
   "cell_type": "markdown",
   "metadata": {},
   "source": [
    "## 압축 배치 관리자"
   ]
  },
  {
   "cell_type": "code",
   "execution_count": null,
   "metadata": {},
   "outputs": [],
   "source": [
    "window = Tk()\n",
    "\n",
    "Label(window, text=\"박스 #1\", bg=\"red\", fg=\"white\").pack()\n",
    "Label(window, text=\"박스 #2\", bg=\"green\", fg=\"black\").pack()\n",
    "Label(window, text=\"박스 #3\", bg=\"blue\", fg=\"white\").pack()\n",
    "\n",
    "window.mainloop()"
   ]
  },
  {
   "attachments": {},
   "cell_type": "markdown",
   "metadata": {},
   "source": [
    "## 절대 위치 배치 관리자"
   ]
  },
  {
   "cell_type": "code",
   "execution_count": null,
   "metadata": {},
   "outputs": [],
   "source": [
    "window = Tk()\n",
    "\n",
    "w = Label(window, text=\"박스 #1\", bg=\"red\", fg=\"white\")\n",
    "w.place(x=0, y=0)\n",
    "w = Label(window, text=\"박스 #2\", bg=\"green\", fg=\"black\")\n",
    "w.place(x=20, y=20)\n",
    "w = Label(window, text=\"박스 #3\", bg=\"blue\", fg=\"white\")\n",
    "w.place(x=40, y=40)\n",
    "\n",
    "window.mainloop()"
   ]
  },
  {
   "cell_type": "markdown",
   "metadata": {},
   "source": [
    "# Lab 모음"
   ]
  },
  {
   "attachments": {},
   "cell_type": "markdown",
   "metadata": {},
   "source": [
    "## Lab : 마우스로 그림 그리기\n",
    "- Tic-Tac-Toe는 3×3칸을 가지는 게임판을 만들고, 경기자 2명이 동그라미 심볼(O)와 가위표 심볼(X)을 고른다. 경기자는 번갈아 가며 게임판에 동그라미나 가위표를 놓는다. 가로, 세로, 대각선으로 동일한 심볼을 먼저 만들면 승리하게 된다. "
   ]
  },
  {
   "cell_type": "code",
   "execution_count": null,
   "metadata": {},
   "outputs": [],
   "source": [
    "from tkinter import *\n",
    "# i번째 버튼을 누를 수 있는지 검사한다. 누를 수 있으면 X나 O를 표시한다. \n",
    "def checked(i):\n",
    "    global player\n",
    "    button = list[i] # 리스트에서 I번째 버튼 객체를 가져온다. \n",
    "                    # 버튼이 초기상태가 아니면 이미 누른 버튼이므로 아무것도 하지않고 리턴한다.\n",
    "    if button[\"text\"] != \" \":\n",
    "        return\n",
    "    button[\"text\"] = \" \" + player+\" \"\n",
    "    button[\"bg\"] = \"yellow\"\n",
    "    if player==\"X\":\n",
    "        player = \"O\"\n",
    "        button[\"bg\"] = \"yellow\"\n",
    "    else :\n",
    "        player = \"X\"\n",
    "        button[\"bg\"] = \"lightgreen\"\n",
    "\n",
    "window = Tk() # 윈도우를 생성한다. \n",
    "player=\"X\" # 시작은 플레이어 X이다. \n",
    "list = []\n",
    "\n",
    "# 9개의 버튼을 생성하여 격자 형태로 윈도우에 배치한다. \n",
    "for i in range(9):\n",
    "    b = Button(window, text=\" \", command=lambda k=i: checked(k))\n",
    "    b.grid(row=i//3, column=i%3)\n",
    "    list.append(b) # 버튼 객체를 리스트에 저장한다. \n",
    "\n",
    "window.mainloop()\n"
   ]
  },
  {
   "attachments": {},
   "cell_type": "markdown",
   "metadata": {},
   "source": [
    "## Lab : 마우스로 그림 그리기\n",
    "- 격자 배치 관리자를 사용하여 레이블과 버튼을 배치한다. 색상의 개수만큼 반복하면서 레이블과 버튼을 생성하고 격자형태로 배치하면 된다."
   ]
  },
  {
   "cell_type": "code",
   "execution_count": null,
   "metadata": {},
   "outputs": [],
   "source": [
    "from tkinter import *\n",
    "#약간의 3차원 효과를 낸다. \n",
    "\n",
    "window = Tk()\n",
    "colors = ['green', 'red', 'orange','white','yellow','blue']\n",
    "\n",
    "r = 0\n",
    "for c in colors:\n",
    "    Label(window, text=c, relief=RIDGE, width=15).grid(row=r, column=0)\n",
    "    Button(window, bg=c, width=10).grid(row=r, column=1)\n",
    "    r = r + 1\n",
    "\n",
    "window.mainloop()"
   ]
  },
  {
   "attachments": {},
   "cell_type": "markdown",
   "metadata": {},
   "source": [
    "## Lab : 스톱워치 만들기\n",
    "- 레이블을 사용하여 간단한 스톱워치를 작성하여 보자. 시작 버튼을 누르면 시작되고 중지 버튼을 누르면 스톱워치가 중지된다."
   ]
  },
  {
   "cell_type": "code",
   "execution_count": null,
   "metadata": {},
   "outputs": [],
   "source": [
    "import tkinter as tk\n",
    "def startTimer():\n",
    "    if (running):\n",
    "        global timer\n",
    "        timer += 1\n",
    "        timeText.configure(text=str(timer))\n",
    "    window.after(10, startTimer)\n",
    "\n",
    "def start():\n",
    "    global running\n",
    "    running = True\n",
    "\n",
    "def stop():\n",
    "    global running\n",
    "    running = False\n",
    "running = False\n",
    "\n",
    "window = tk.Tk()\n",
    "\n",
    "timer = 0\n",
    "\n",
    "timeText = tk.Label(window, text=\"0\", font=(\"Helvetica\", 80))\n",
    "timeText.pack()\n",
    "\n",
    "startButton = tk.Button(window, text='시작', bg=\"yellow\", command=start)\n",
    "startButton.pack(fill=tk.BOTH)\n",
    "\n",
    "stopButton = tk.Button(window, text='중지', bg=\"yellow\", command=stop)\n",
    "stopButton.pack(fill=tk.BOTH)\n",
    "\n",
    "startTimer()\n",
    "window.mainloop()"
   ]
  },
  {
   "attachments": {},
   "cell_type": "markdown",
   "metadata": {},
   "source": [
    "## Lab: 버튼을 가지는 계산기 만들기\n",
    "- 파이썬을 이용하여 버튼을 가지는 계산기를 작성하여 보자. 적절한 배치 관리자를 선택하여 사용하라. "
   ]
  },
  {
   "cell_type": "code",
   "execution_count": null,
   "metadata": {},
   "outputs": [],
   "source": [
    "from tkinter import *\n",
    "def click(key):\n",
    "    if key == '=': # “=” 버튼이면 수식을 계산하여 결과를 표시한다.\n",
    "        try:\n",
    "            result = eval(entry.get())\n",
    "            entry.delete(0, END) \n",
    "            entry.insert(END, str(result))\n",
    "        except:\n",
    "            entry.insert(END, \"오류!\")\n",
    "\n",
    "    elif key == 'C':\n",
    "        entry.delete(0, END) \n",
    "\n",
    "    else:\n",
    "        entry.insert(END, key)\n",
    "\n",
    "window = Tk()\n",
    "window.title(\"간단한 계산기\")\n",
    "\n",
    "buttons = [\n",
    "    '7', '8', '9', '+', 'C',\n",
    "    '4', '5', '6', '-', ' ',\n",
    "    '1', '2', '3', '*', ' ',\n",
    "    '0', '.', '=', '/', ' ' ]\n",
    "\n",
    "# 반복문으로 버튼을 생성한다.\n",
    "i=0\n",
    "for b in buttons:\n",
    "    cmd = lambda x=b: click(x)\n",
    "    b = Button(window,text=b,width=5,relief='ridge',command=cmd)\n",
    "    b.grid(row=i//5+1,column=i%5)\n",
    "    i += 1\n",
    "\n",
    "# 엔트리 위젯은 맨 윗줄의 5개의 셀에 걸쳐서 배치된다. \n",
    "entry = Entry(window, width=33, bg=\"yellow\")\n",
    "entry.grid(row=0, column=0, columnspan=5)\n",
    "\n",
    "window.mainloop()"
   ]
  },
  {
   "cell_type": "markdown",
   "metadata": {},
   "source": [
    "# 이벤트 처리"
   ]
  },
  {
   "cell_type": "markdown",
   "metadata": {},
   "source": [
    "## 마우스 이벤트 처리"
   ]
  },
  {
   "cell_type": "code",
   "execution_count": null,
   "metadata": {},
   "outputs": [],
   "source": [
    "window = Tk()\n",
    "def callback(event):\n",
    "    print(event.x, event.y, \"에서 마우스 이벤트 발생\")\n",
    "\n",
    "frame = Frame(window, width=100, height=100)\n",
    "frame.bind(\"<Button-1>\", callback)\n",
    "frame.pack()\n",
    "\n",
    "window.mainloop()"
   ]
  },
  {
   "cell_type": "markdown",
   "metadata": {},
   "source": [
    "## 키보드 이벤트 처리"
   ]
  },
  {
   "cell_type": "code",
   "execution_count": null,
   "metadata": {},
   "outputs": [],
   "source": [
    "window = Tk()\n",
    "\n",
    "def key(event):\n",
    "    print ( repr(event.char), \"가 눌렸습니다. \")\n",
    "\n",
    "def callback(event):\n",
    "    frame.focus_set()\n",
    "    print(event.x, event.y, \"에서 마우스 이벤트 발생\")\n",
    "\n",
    "frame = Frame(window, width=100, height=100)\n",
    "frame.bind(\"<Key>\", key)\n",
    "frame.bind(\"<Button-1>\", callback)\n",
    "frame.pack()\n",
    "\n",
    "window.mainloop()"
   ]
  },
  {
   "cell_type": "markdown",
   "metadata": {},
   "source": [
    "# 이벤트 지정자"
   ]
  },
  {
   "cell_type": "markdown",
   "metadata": {},
   "source": [
    "## 마우스 버튼 이벤트 처리"
   ]
  },
  {
   "cell_type": "code",
   "execution_count": null,
   "metadata": {},
   "outputs": [],
   "source": [
    "def sleft(event):\n",
    "    print(\"단일 클릭, 왼쪽 버튼\") \n",
    "\n",
    "def dleft(event): \n",
    "    print(\"더블 클릭, 왼쪽 버튼\") \n",
    "\n",
    "widget = Button(None, text='마우스 클릭')\n",
    "widget.pack()\n",
    "\n",
    "widget.bind('<Button-1>', sleft)\n",
    "widget.bind('<Double-1>', dleft) \n",
    "\n",
    "widget.mainloop()"
   ]
  },
  {
   "cell_type": "markdown",
   "metadata": {},
   "source": [
    "## 마우스 모션 이벤트 처리"
   ]
  },
  {
   "cell_type": "code",
   "execution_count": null,
   "metadata": {},
   "outputs": [],
   "source": [
    "def motion(event):\n",
    "    print(\"마우스 위치: (%s %s)\" % (event.x, event.y))\n",
    "    return\n",
    "\n",
    "window = Tk()\n",
    "message = \"\"\"당신 스스로가 하지 않으면\n",
    "아무도 당신의 운명을\n",
    "개선시켜주지 않을 것이다. \"\"\"\n",
    "\n",
    "msg = Message(window, text = message)\n",
    "msg.config(bg='yellow',fg='blue', font=\"times 20 italic\")\n",
    "msg.bind('<Motion>',motion)\n",
    "msg.pack()\n",
    "window.mainloop()"
   ]
  },
  {
   "attachments": {},
   "cell_type": "markdown",
   "metadata": {},
   "source": [
    "# Lab : 숫자 추측 게임\n",
    "- 사용자가 컴퓨터가 생성한 숫자(1부터 100사이의 난수)를 알아맞히는 게임을 그래픽 사용자 인터페이스를 사용하여 제작해보자."
   ]
  },
  {
   "cell_type": "code",
   "execution_count": null,
   "metadata": {},
   "outputs": [],
   "source": [
    "from tkinter import *\n",
    "import random\n",
    "\n",
    "answer = random.randint(1,100)\n",
    "\n",
    "def guessing():\n",
    "    guess = int(guessField.get())\n",
    "    if guess > answer:\n",
    "    msg = \"높음!\"\n",
    "    elif guess < answer:\n",
    "    msg = \"낮음!\"\n",
    "    else:\n",
    "    msg = \"정답!\"\n",
    "    resultLabel[\"text\"] = msg\n",
    "    guessField.delete(0, 5)\n",
    "\n",
    "def reset():\n",
    "    global answer\n",
    "    answer = random.randint(1,100)\n",
    "    resultLabel[\"text\"] = \"다시 한번 하세요!\"\n",
    "\n",
    "window = Tk()\n",
    "window.configure(bg=\"white\")\n",
    "window.title(\"숫자를 맞춰보세요!\")\n",
    "window.geometry(\"500x80\")\n",
    "\n",
    "titleLabel = Label(window, text=\"숫자 게임에 오신 것을 환영합니다!\", bg=\"white\")\n",
    "titleLabel.pack()\n",
    "\n",
    "guessField = Entry(window)\n",
    "guessField.pack(side=\"left\")\n",
    "tryButton = Button(window, text=\"시도\", fg=\"green\", bg=\"white\", command=guessing )\n",
    "tryButton.pack(side=\"left\")\n",
    "\n",
    "resetButton = Button(window, text=\"초기화\", fg=\"red\", bg=\"white\", command=reset)\n",
    "resetButton.pack(side=\"left\")\n",
    "resultLabel = Label(window, text=\"1부터 100사이의 숫자를 입력하시오.\", bg=\"white\") \n",
    "resultLabel.pack(side=\"left\")\n",
    "\n",
    "window.mainloop()\n"
   ]
  },
  {
   "cell_type": "markdown",
   "metadata": {},
   "source": [
    "# 핵심 정리"
   ]
  },
  {
   "attachments": {},
   "cell_type": "markdown",
   "metadata": {},
   "source": [
    "- tkinter에서는 먼저 루프 윈도우를 생성하고 레이블이나 버튼을 생성할 때 첫 번째 인수로 윈도우를 넘기면 된다. \n",
    "- 파이썬은 3종류의 배치 관리자를 제공한다. 압축(pack) 배치 관리자, 격자(grid) 배치 관리자. 절대(place) 배치 관리자가 바로 그것이다. \n",
    "- 위젯에 이벤트를 처리하는 함수를 연결하려면 bind() 메소드를 사용한다. 예를 들면 widget.bind('<Button-1>', sleft)와 같이 하면 된다."
   ]
  }
 ],
 "metadata": {
  "kernelspec": {
   "display_name": "tf1",
   "language": "python",
   "name": "python3"
  },
  "language_info": {
   "codemirror_mode": {
    "name": "ipython",
    "version": 3
   },
   "file_extension": ".py",
   "mimetype": "text/x-python",
   "name": "python",
   "nbconvert_exporter": "python",
   "pygments_lexer": "ipython3",
   "version": "3.9.7"
  },
  "orig_nbformat": 4
 },
 "nbformat": 4,
 "nbformat_minor": 2
}
